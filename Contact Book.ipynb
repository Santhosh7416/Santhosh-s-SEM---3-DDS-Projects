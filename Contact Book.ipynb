{
  "nbformat": 4,
  "nbformat_minor": 0,
  "metadata": {
    "colab": {
      "provenance": []
    },
    "kernelspec": {
      "name": "python3",
      "display_name": "Python 3"
    },
    "language_info": {
      "name": "python"
    }
  },
  "cells": [
    {
      "cell_type": "code",
      "execution_count": null,
      "metadata": {
        "id": "7rX7jqDjWHL9"
      },
      "outputs": [],
      "source": []
    },
    {
      "cell_type": "markdown",
      "source": [
        "# **Contact Book:**\n",
        "\n",
        "# **===============================================**\n",
        "----\n",
        "* ***Features***:\n",
        "---\n",
        "\n",
        "**1.** Add new contact.\n",
        "\n",
        "**2.** Display all contacts.\n",
        "\n",
        "**3.** Search contact by name.\n",
        "\n",
        "**4.** Update a contact.\n",
        "\n",
        "**5.** Delete a contact.\n",
        "\n",
        "**6.** Save/load contacts from file.\n",
        "\n",
        "**7.** Keep contacts alphabetically sorted by name.\n",
        "\n",
        "---\n",
        "* **Data Structures Used:**\n",
        "---\n",
        "\n",
        "**1.** Self-referential structure (Linked List) for dynamic contact list.\n",
        "\n",
        "**2.** File I/O to save/load contact data.\n",
        "\n",
        "=================================================================================\n",
        "\n",
        "[code here](https://www.programiz.com/online-compiler/1DnuaZKqY0fUS)"
      ],
      "metadata": {
        "id": "dM8bsF4BZ7ob"
      }
    }
  ]
}