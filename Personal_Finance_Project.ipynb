{
  "nbformat": 4,
  "nbformat_minor": 0,
  "metadata": {
    "colab": {
      "provenance": []
    },
    "kernelspec": {
      "name": "python3",
      "display_name": "Python 3"
    },
    "language_info": {
      "name": "python"
    }
  },
  "cells": [
    {
      "cell_type": "code",
      "execution_count": null,
      "metadata": {
        "id": "0GS00oa3M8vh"
      },
      "outputs": [],
      "source": []
    },
    {
      "cell_type": "markdown",
      "source": [
        "\n",
        "\n",
        "#**Personal Finance Tracker:**\n",
        "#=================================================\n",
        "\n",
        "\n",
        "\n",
        "\n",
        "\n",
        "\n",
        "* ***Features***:\n",
        "-------\n",
        "\n",
        "\n",
        "**1.** Add new income/expense records.\n",
        "\n",
        "\n",
        "\n",
        "**2.** Filter expenses (e.g., above ₹100).\n",
        "\n",
        "**3.** Sort by date or amount.\n",
        "\n",
        "**4.** Save & load data from a file.\n",
        "\n",
        "**5.** ***Bonus***: ASCII bar chart for monthly spending.\n",
        "\n",
        "* **Data Structures Used:**\n",
        "-----\n",
        "\n",
        "**1.** struct for transactions.\n",
        "\n",
        "**2.** array or vector of structs.\n",
        "\n",
        "**3.** File I/O using fstream.\n",
        "\n",
        "**4.** Optional: ASCII chart using console formatting.\n",
        "\n",
        " =================================================================================\n",
        "\n",
        "\n",
        "\n",
        "\n",
        " [code here](https://www.programiz.com/online-compiler/1CgmOwxO4puDr)\n",
        "\n",
        "\n",
        "\n",
        "\n",
        "\n"
      ],
      "metadata": {
        "id": "h6-fL6ttM9NE"
      }
    }
  ]
}