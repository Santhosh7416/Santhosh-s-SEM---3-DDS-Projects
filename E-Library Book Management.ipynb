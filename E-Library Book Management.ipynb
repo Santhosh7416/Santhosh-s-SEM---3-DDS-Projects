{
  "nbformat": 4,
  "nbformat_minor": 0,
  "metadata": {
    "colab": {
      "provenance": []
    },
    "kernelspec": {
      "name": "python3",
      "display_name": "Python 3"
    },
    "language_info": {
      "name": "python"
    }
  },
  "cells": [
    {
      "cell_type": "code",
      "execution_count": null,
      "metadata": {
        "id": "na-YOartVtf5"
      },
      "outputs": [],
      "source": []
    },
    {
      "cell_type": "markdown",
      "source": [
        "# **E-Library Book Management**\n",
        "#=================================================\n",
        "\n",
        "---\n",
        "\n",
        "* **Features:**\n",
        "----\n",
        "**1.** Add new books to library.\n",
        "\n",
        "**2.** Borrow & return books.\n",
        "\n",
        "**3.** Undo last action (borrow or return).\n",
        "\n",
        "**4.** Search by title/author.\n",
        "\n",
        "**5.** Display book inventory.\n",
        "\n",
        " ------\n",
        "\n",
        "* **Data Structures Used:**\n",
        "---\n",
        "\n",
        "**1.** Singly Linked List → to manage the list of books\n",
        "\n",
        "**2.** Stack → to support undo functionality (last action)\n",
        "\n",
        "=================================================================================\n",
        "\n",
        "[code here](https://www.programiz.com/online-compiler/4xl3AIf1KrciB)"
      ],
      "metadata": {
        "id": "HjUbC26lVuF6"
      }
    }
  ]
}